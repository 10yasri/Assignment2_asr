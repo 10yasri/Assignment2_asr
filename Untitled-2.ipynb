{
 "cells": [
  {
   "cell_type": "code",
   "execution_count": null,
   "metadata": {},
   "outputs": [
    {
     "name": "stdout",
     "output_type": "stream",
     "text": [
      "Skipping 0000a7be825f70cbe4c49acf9a8b7804d05a8a4701a2b42a343a694e.wav: Empty reference found\n",
      "Skipping 0000b51ac562056d95d2ab9a1925f69257cc1018e909d8583dc92ed4.wav: Empty reference found\n"
     ]
    },
    {
     "name": "stderr",
     "output_type": "stream",
     "text": [
      "Some weights of the model checkpoint at facebook/wav2vec2-large-960h were not used when initializing Wav2Vec2ForCTC: ['wav2vec2.encoder.pos_conv_embed.conv.weight_g', 'wav2vec2.encoder.pos_conv_embed.conv.weight_v']\n",
      "- This IS expected if you are initializing Wav2Vec2ForCTC from the checkpoint of a model trained on another task or with another architecture (e.g. initializing a BertForSequenceClassification model from a BertForPreTraining model).\n",
      "- This IS NOT expected if you are initializing Wav2Vec2ForCTC from the checkpoint of a model that you expect to be exactly identical (initializing a BertForSequenceClassification model from a BertForSequenceClassification model).\n",
      "Some weights of Wav2Vec2ForCTC were not initialized from the model checkpoint at facebook/wav2vec2-large-960h and are newly initialized: ['wav2vec2.encoder.pos_conv_embed.conv.parametrizations.weight.original0', 'wav2vec2.encoder.pos_conv_embed.conv.parametrizations.weight.original1', 'wav2vec2.masked_spec_embed']\n",
      "You should probably TRAIN this model on a down-stream task to be able to use it for predictions and inference.\n"
     ]
    }
   ],
   "source": [
    "import os\n",
    "import librosa\n",
    "import torch\n",
    "from transformers import Wav2Vec2ForCTC, Wav2Vec2Processor\n",
    "from jiwer import wer\n",
    "\n",
    "#  Functionality to process NPTEL data from local directory\n",
    "def load_NPTEL_data(main_directory):\n",
    "    data = {}\n",
    "    for folder_name in [\"wav\"]:\n",
    "        folder_path = os.path.join(main_directory, folder_name)\n",
    "        audiofiles = []\n",
    "        original_transcriptions = []\n",
    "        corrected_transcriptions = []\n",
    "\n",
    "        # loop through each file in Folder\n",
    "        for file_name in os.listdir(folder_path):\n",
    "            if file_name.endswith(\".wav\"):\n",
    "                audio_path = os.path.join(folder_path, file_name)\n",
    "                original_transcription_path = os.path.join(main_directory, \"original_txt\", file_name.replace(\".wav\", \".txt\"))\n",
    "                corrected_transcription_path = os.path.join(main_directory, \"corrected_txt\", file_name.replace(\".wav\", \".txt\"))\n",
    "\n",
    "                if os.path.exists(original_transcription_path) and os.path.exists(corrected_transcription_path):\n",
    "                    with open(original_transcription_path, \"r\") as f:\n",
    "                        original_transcription = f.read().strip()\n",
    "                    with open(corrected_transcription_path, \"r\") as f:\n",
    "                        corrected_transcription = f.read().strip()\n",
    "\n",
    "                    # Skip empty references\n",
    "                    if not original_transcription or not corrected_transcription:\n",
    "                        print(f\"Skipping {file_name}: Empty reference found\")\n",
    "                        continue\n",
    "\n",
    "                    audiofiles.append(audio_path)\n",
    "                    original_transcriptions.append(original_transcription)\n",
    "                    corrected_transcriptions.append(corrected_transcription)\n",
    "                else:\n",
    "                    print(f\"Transcription file missing for {file_name}\")\n",
    "\n",
    "        if not audiofiles:\n",
    "            print(f\"No audio files found in directory: {folder_name}\")\n",
    "\n",
    "        data[folder_name] = {\n",
    "            \"audiofiles\": audiofiles,\n",
    "            \"original_transcriptions\": original_transcriptions,\n",
    "            \"corrected_transcriptions\": corrected_transcriptions\n",
    "        }\n",
    "\n",
    "    return data\n",
    "\n",
    "# Transcribe the  Audio using Wav2Vec2 model\n",
    "def transcribe_audio(audio_path):\n",
    "    waveform, sample_rate = librosa.load(audio_path, sr=None)\n",
    "    inputs = processor(waveform, sampling_rate=sample_rate, return_tensors=\"pt\", padding=True)\n",
    "    with torch.no_grad():\n",
    "        logits = model(inputs.input_values).logits\n",
    "    predicted_ids = torch.argmax(logits, dim=-1)\n",
    "    transcription = processor.batch_decode(predicted_ids)\n",
    "    return transcription[0]\n",
    "\n",
    "# Load Audio files and transcriptions from the NPTEL dataset\n",
    "main_directory = \"C:/Users/tanya/OneDrive/Desktop/pytrch/New folder/nptel-pure\"\n",
    "NPTEL_data = load_NPTEL_data(main_directory)\n",
    "\n",
    "# Load Pre-trained Wav2Vec2 model and processor\n",
    "model_name = \"facebook/wav2vec2-large-960h\"\n",
    "processor = Wav2Vec2Processor.from_pretrained(model_name)\n",
    "model = Wav2Vec2ForCTC.from_pretrained(model_name)"
   ]
  },
  {
   "cell_type": "code",
   "execution_count": 6,
   "metadata": {},
   "outputs": [
    {
     "name": "stdout",
     "output_type": "stream",
     "text": [
      "Avg CER for wav (Original): 0.47939048968891124\n",
      "Avg CER for wav (Corrected): 0.416193899455399\n",
      "{'wav': {'CER Original': 0.47939048968891124, 'CER Corrected': 0.416193899455399}}\n"
     ]
    }
   ],
   "source": [
    "\n",
    "# Calculate CER for each directory\n",
    "cer_results = {}\n",
    "\n",
    "for dir_name, data in NPTEL_data.items():\n",
    "    if not data[\"audiofiles\"]:\n",
    "        print(f\"No audio files found in directory: {dir_name}\")\n",
    "        cer_results[dir_name] = {\"CER Original\": None, \"CER Corrected\": None}\n",
    "        continue\n",
    "\n",
    "    total_cer_original = 0\n",
    "    total_cer_corrected = 0\n",
    "    valid_samples = 0  \n",
    "\n",
    "    audiofiles = data[\"audiofiles\"]\n",
    "    original_transcriptions = data[\"original_transcriptions\"]\n",
    "    corrected_transcriptions = data[\"corrected_transcriptions\"]\n",
    "\n",
    "    for audio_path, original_transcription, corrected_transcription in zip(audiofiles, original_transcriptions, corrected_transcriptions):\n",
    "        try:\n",
    "            # Transcribe audio\n",
    "            transcription = transcribe_audio(audio_path)\n",
    "\n",
    "            # Calculate CER against original transcription\n",
    "            cer_original = wer(original_transcription, transcription)\n",
    "            total_cer_original += cer_original\n",
    "\n",
    "            # Calculate CER against corrected transcription\n",
    "            cer_corrected = wer(corrected_transcription, transcription)\n",
    "            total_cer_corrected += cer_corrected\n",
    "\n",
    "            valid_samples += 1  \n",
    "\n",
    "        except Exception as e:\n",
    "            print(f\"Error processing {audio_path}: {str(e)}\")\n",
    "\n",
    "    # Calculate average CER only if there are valid samples processed\n",
    "    average_cer_original = total_cer_original / valid_samples if valid_samples > 0 else None\n",
    "    average_cer_corrected = total_cer_corrected / valid_samples if valid_samples > 0 else None\n",
    "\n",
    "    cer_results[dir_name] = {\n",
    "        \"CER Original\": average_cer_original,\n",
    "        \"CER Corrected\": average_cer_corrected\n",
    "    }\n",
    "\n",
    "    print(f\"Avg CER for {dir_name} (Original): {average_cer_original}\")\n",
    "    print(f\"Avg CER for {dir_name} (Corrected): {average_cer_corrected}\")\n",
    "\n",
    "print(cer_results)"
   ]
  }
 ],
 "metadata": {
  "kernelspec": {
   "display_name": "Python 3",
   "language": "python",
   "name": "python3"
  },
  "language_info": {
   "codemirror_mode": {
    "name": "ipython",
    "version": 3
   },
   "file_extension": ".py",
   "mimetype": "text/x-python",
   "name": "python",
   "nbconvert_exporter": "python",
   "pygments_lexer": "ipython3",
   "version": "3.11.4"
  }
 },
 "nbformat": 4,
 "nbformat_minor": 2
}
