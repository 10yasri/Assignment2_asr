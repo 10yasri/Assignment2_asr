{
 "cells": [
  {
   "cell_type": "code",
   "execution_count": 44,
   "metadata": {},
   "outputs": [
    {
     "name": "stderr",
     "output_type": "stream",
     "text": [
      "Some weights of the model checkpoint at facebook/wav2vec2-large-960h were not used when initializing Wav2Vec2ForCTC: ['wav2vec2.encoder.pos_conv_embed.conv.weight_g', 'wav2vec2.encoder.pos_conv_embed.conv.weight_v']\n",
      "- This IS expected if you are initializing Wav2Vec2ForCTC from the checkpoint of a model trained on another task or with another architecture (e.g. initializing a BertForSequenceClassification model from a BertForPreTraining model).\n",
      "- This IS NOT expected if you are initializing Wav2Vec2ForCTC from the checkpoint of a model that you expect to be exactly identical (initializing a BertForSequenceClassification model from a BertForSequenceClassification model).\n",
      "Some weights of Wav2Vec2ForCTC were not initialized from the model checkpoint at facebook/wav2vec2-large-960h and are newly initialized: ['wav2vec2.encoder.pos_conv_embed.conv.parametrizations.weight.original0', 'wav2vec2.encoder.pos_conv_embed.conv.parametrizations.weight.original1', 'wav2vec2.masked_spec_embed']\n",
      "You should probably TRAIN this model on a down-stream task to be able to use it for predictions and inference.\n"
     ]
    }
   ],
   "source": [
    "import os\n",
    "import librosa\n",
    "import torch\n",
    "import torchaudio\n",
    "from transformers import Wav2Vec2ForCTC, Wav2Vec2Processor\n",
    "from jiwer import cer\n",
    "# function to load NPTEL data from local Directory\n",
    "def load_NPTEL_data(main_directory):\n",
    "    data = {}\n",
    "    for folder_name in [\"vil\"]:\n",
    "        folder_path = os.path.join(main_directory, folder_name)\n",
    "        audiofiles = []\n",
    "        transcriptions = []\n",
    "\n",
    "        # Iterate through each file in Folder\n",
    "        for file_name in os.listdir(folder_path):\n",
    "            if file_name.endswith(\".wav\"):\n",
    "                audio_path = os.path.join(folder_path, file_name)\n",
    "                transcription_path = audio_path.replace(\".wav\", \".txt\")  \n",
    "                if os.path.exists(transcription_path):\n",
    "                    with open(transcription_path, \"r\") as f:\n",
    "                        transcription = f.read().strip()\n",
    "                    audiofiles.append(audio_path)\n",
    "                    transcriptions.append(transcription)\n",
    "        if not audiofiles:\n",
    "            print(f\"No audio files found in directory: {folder_name}\")\n",
    "        data[folder_name] = {\"audiofiles\": audiofiles, \"transcriptions\": transcriptions}\n",
    "    return data\n",
    "# Transcribe Audio using Wav2Vec2 model\n",
    "def transcribe_audio(waveform, sample_rate):\n",
    "    inputs = processor(waveform, sampling_rate=sample_rate, return_tensors=\"pt\", padding=True)\n",
    "    with torch.no_grad():\n",
    "        logits = model(inputs.input_values).logits\n",
    "    predicted_ids = torch.argmax(logits, dim=-1)\n",
    "    transcription = processor.batch_decode(predicted_ids)\n",
    "    return transcription[0]\n",
    "# Load Audio files and transcriptions from the NPTEL dataset\n",
    "main_directory = \"C:/Users/tanya/OneDrive/Desktop/pytrch/New folder/nptel-pure\"\n",
    "NPTEL_data = load_NPTEL_data(main_directory)\n",
    "# Load Pre-trained Wav2Vec2 model and processor\n",
    "model_name = \"facebook/wav2vec2-large-960h\"\n",
    "processor = Wav2Vec2Processor.from_pretrained(model_name)\n",
    "model = Wav2Vec2ForCTC.from_pretrained(model_name)\n",
    "\n"
   ]
  },
  {
   "cell_type": "code",
   "execution_count": 45,
   "metadata": {},
   "outputs": [
    {
     "name": "stdout",
     "output_type": "stream",
     "text": [
      "CER for vil: 0.2688981703466041\n",
      "{'vil': 0.2688981703466041}\n"
     ]
    }
   ],
   "source": [
    "# Calculate CER for each directory\n",
    "cer_results = {}\n",
    "\n",
    "for dir_name, data in NPTEL_data.items():\n",
    "    if not data[\"audiofiles\"]:\n",
    "        print(f\"No audio files found in directory: {dir_name}\")\n",
    "        cer_results[dir_name] = None\n",
    "        continue\n",
    "\n",
    "    total_cer = 0\n",
    "    audiofiles = data[\"audiofiles\"]\n",
    "    transcriptions = data[\"transcriptions\"]\n",
    "\n",
    "    for audio_path, reference in zip(audiofiles, transcriptions):\n",
    "        waveform, sample_rate = librosa.load(audio_path, sr=None)\n",
    "        transcription = transcribe_audio(waveform, sample_rate)\n",
    "        \n",
    "        total_cer += cer(reference, transcription)\n",
    "\n",
    "    average_cer = total_cer / len(audiofiles) if audiofiles else None\n",
    "    cer_results[dir_name] = average_cer\n",
    "    print(f\"CER for {dir_name}: {average_cer}\")\n",
    "\n",
    "print(cer_results)\n",
    "\n",
    " "
   ]
  }
 ],
 "metadata": {
  "kernelspec": {
   "display_name": "Python 3",
   "language": "python",
   "name": "python3"
  },
  "language_info": {
   "codemirror_mode": {
    "name": "ipython",
    "version": 3
   },
   "file_extension": ".py",
   "mimetype": "text/x-python",
   "name": "python",
   "nbconvert_exporter": "python",
   "pygments_lexer": "ipython3",
   "version": "3.11.4"
  }
 },
 "nbformat": 4,
 "nbformat_minor": 2
}
